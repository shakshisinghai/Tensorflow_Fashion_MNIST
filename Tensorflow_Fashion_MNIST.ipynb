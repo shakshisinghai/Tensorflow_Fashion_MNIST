{
  "nbformat": 4,
  "nbformat_minor": 0,
  "metadata": {
    "colab": {
      "name": "Tensorflow_Fashion_MNIST.ipynb",
      "provenance": [],
      "collapsed_sections": [],
      "mount_file_id": "1RK7ILDFtZ6IGuyoeySdTTdtHpccbo1xZ",
      "authorship_tag": "ABX9TyO6hfQaXXGCMeFFytBPZHrg",
      "include_colab_link": true
    },
    "kernelspec": {
      "name": "python3",
      "display_name": "Python 3"
    }
  },
  "cells": [
    {
      "cell_type": "markdown",
      "metadata": {
        "id": "view-in-github",
        "colab_type": "text"
      },
      "source": [
        "<a href=\"https://colab.research.google.com/github/shakshisinghai/Tensorflow_Fashion_MNIST/blob/master/Tensorflow_Fashion_MNIST.ipynb\" target=\"_parent\"><img src=\"https://colab.research.google.com/assets/colab-badge.svg\" alt=\"Open In Colab\"/></a>"
      ]
    },
    {
      "cell_type": "markdown",
      "metadata": {
        "id": "zDiWXOn8llCp",
        "colab_type": "text"
      },
      "source": [
        "#TensorFlow\n",
        "TensorFlow is a software library or framework, to implement machine learning and deep learning concepts in the easiest manner. \n",
        " \n",
        "**Important features of TensorFlow −**\n",
        "\n",
        "1. It includes a feature of that defines, optimizes and calculates mathematical expressions easily with the help of **multi-dimensional arrays called tensors**.\n",
        "2. It includes a programming support of deep neural networks and machine learning techniques.\n",
        "3. It includes a high scalable feature of computation with various data sets.\n",
        "4. TensorFlow uses GPU computing, automating management. It also includes a unique feature of optimization of same memory and the data used.\n",
        "\n",
        "**Tensors are identified by the following three parameters −**\n",
        "1. Rank : Unit of dimensionality.\n",
        "2. Shape : number of rows and columns.\n",
        "3. Datatype : data type assigned to Tensor’s elements. \n"
      ]
    },
    {
      "cell_type": "markdown",
      "metadata": {
        "id": "5sV9FPbNDXRB",
        "colab_type": "text"
      },
      "source": [
        "## Keras\n",
        "\n",
        "**Keras** is compact, easy to learn, high-level Python library run on top of TensorFlow framework.\n",
        "\n",
        "The creation of freamework can be of the following two types −\n",
        "1. Sequential API\n",
        "2. Functional API\n",
        "\n",
        "Following are the eight steps to create deep learning model in Keras −\n",
        "\n",
        "1. Loading the data\n",
        "2. Preprocess the loaded data\n",
        "3. Definition of model\n",
        "4. Compiling the model\n",
        "5. Fit the specified model\n",
        "6. Evaluate it\n",
        "7. Make the required predictions\n",
        "8. Save the model"
      ]
    },
    {
      "cell_type": "code",
      "metadata": {
        "id": "rdqt0JKEsfUF",
        "colab_type": "code",
        "colab": {}
      },
      "source": [
        "import tensorflow as tf\n",
        "import numpy as np\n",
        "from matplotlib import pyplot as plt\n",
        "import random\n",
        "import time"
      ],
      "execution_count": 1,
      "outputs": []
    },
    {
      "cell_type": "code",
      "metadata": {
        "id": "wBe_r6CWs75R",
        "colab_type": "code",
        "colab": {
          "base_uri": "https://localhost:8080/",
          "height": 158
        },
        "outputId": "92bab14d-97e0-42df-8e57-e204b064131c"
      },
      "source": [
        "mnist=tf.keras.datasets.fashion_mnist\n",
        "(x_train, y_train), (x_test, y_test)=mnist.load_data()"
      ],
      "execution_count": 3,
      "outputs": [
        {
          "output_type": "stream",
          "text": [
            "Downloading data from https://storage.googleapis.com/tensorflow/tf-keras-datasets/train-labels-idx1-ubyte.gz\n",
            "32768/29515 [=================================] - 0s 0us/step\n",
            "Downloading data from https://storage.googleapis.com/tensorflow/tf-keras-datasets/train-images-idx3-ubyte.gz\n",
            "26427392/26421880 [==============================] - 1s 0us/step\n",
            "Downloading data from https://storage.googleapis.com/tensorflow/tf-keras-datasets/t10k-labels-idx1-ubyte.gz\n",
            "8192/5148 [===============================================] - 0s 0us/step\n",
            "Downloading data from https://storage.googleapis.com/tensorflow/tf-keras-datasets/t10k-images-idx3-ubyte.gz\n",
            "4423680/4422102 [==============================] - 0s 0us/step\n"
          ],
          "name": "stdout"
        }
      ]
    },
    {
      "cell_type": "markdown",
      "metadata": {
        "id": "G_XcA7HKv0iZ",
        "colab_type": "text"
      },
      "source": [
        "**Label Description**\n",
        "\n",
        "0 T-shirt/top\n",
        "\n",
        "1 Trouser\n",
        "\n",
        "2 Pullover\n",
        "\n",
        "3 Dress\n",
        "\n",
        "4 Coat\n",
        "\n",
        "5 Sandal\n",
        "\n",
        "6 Shirt\n",
        "\n",
        "7 Sneaker\n",
        "\n",
        "8 Bag\n",
        "\n",
        "9 Ankle boot"
      ]
    },
    {
      "cell_type": "code",
      "metadata": {
        "id": "yq5ImNDjB5i4",
        "colab_type": "code",
        "colab": {
          "base_uri": "https://localhost:8080/",
          "height": 296
        },
        "outputId": "91d5924e-2c86-4231-88ce-e513883e1b23"
      },
      "source": [
        "\n",
        "n=5\n",
        "j=1\n",
        "rand=[random.randint(1,6000) for i in range(1,n*n+1)]\n",
        "for i in rand:\n",
        "  plt.subplot(n,n,j)\n",
        "  plt.imshow(x_train[i],cmap='gray')\n",
        "  plt.title(\"{0}\".format( y_train[i]))\n",
        "  plt.xticks([], [])\n",
        "  plt.yticks([], [])\n",
        "  j+=1\n",
        "\n",
        "plt.tight_layout()"
      ],
      "execution_count": 45,
      "outputs": [
        {
          "output_type": "display_data",
          "data": {
            "image/png": "[encoded data removed]",
            "text/plain": [
              "<Figure size 432x288 with 25 Axes>"
            ]
          },
          "metadata": {
            "tags": []
          }
        }
      ]
    },
    {
      "cell_type": "code",
      "metadata": {
        "id": "L7Tbghzetas_",
        "colab_type": "code",
        "colab": {
          "base_uri": "https://localhost:8080/",
          "height": 1000
        },
        "outputId": "77ad7d58-6f53-4130-94ad-36d6a510289c"
      },
      "source": [
        "#plt.imshow(x_train[0],  cmap='gray')\n",
        "print(x_train[0])\n",
        "print(y_train[0])"
      ],
      "execution_count": 4,
      "outputs": [
        {
          "output_type": "stream",
          "text": [
            "[[  0   0   0   0   0   0   0   0   0   0   0   0   0   0   0   0   0   0\n",
            "    0   0   0   0   0   0   0   0   0   0]\n",
            " [  0   0   0   0   0   0   0   0   0   0   0   0   0   0   0   0   0   0\n",
            "    0   0   0   0   0   0   0   0   0   0]\n",
            " [  0   0   0   0   0   0   0   0   0   0   0   0   0   0   0   0   0   0\n",
            "    0   0   0   0   0   0   0   0   0   0]\n",
            " [  0   0   0   0   0   0   0   0   0   0   0   0   1   0   0  13  73   0\n",
            "    0   1   4   0   0   0   0   1   1   0]\n",
            " [  0   0   0   0   0   0   0   0   0   0   0   0   3   0  36 136 127  62\n",
            "   54   0   0   0   1   3   4   0   0   3]\n",
            " [  0   0   0   0   0   0   0   0   0   0   0   0   6   0 102 204 176 134\n",
            "  144 123  23   0   0   0   0  12  10   0]\n",
            " [  0   0   0   0   0   0   0   0   0   0   0   0   0   0 155 236 207 178\n",
            "  107 156 161 109  64  23  77 130  72  15]\n",
            " [  0   0   0   0   0   0   0   0   0   0   0   1   0  69 207 223 218 216\n",
            "  216 163 127 121 122 146 141  88 172  66]\n",
            " [  0   0   0   0   0   0   0   0   0   1   1   1   0 200 232 232 233 229\n",
            "  223 223 215 213 164 127 123 196 229   0]\n",
            " [  0   0   0   0   0   0   0   0   0   0   0   0   0 183 225 216 223 228\n",
            "  235 227 224 222 224 221 223 245 173   0]\n",
            " [  0   0   0   0   0   0   0   0   0   0   0   0   0 193 228 218 213 198\n",
            "  180 212 210 211 213 223 220 243 202   0]\n",
            " [  0   0   0   0   0   0   0   0   0   1   3   0  12 219 220 212 218 192\n",
            "  169 227 208 218 224 212 226 197 209  52]\n",
            " [  0   0   0   0   0   0   0   0   0   0   6   0  99 244 222 220 218 203\n",
            "  198 221 215 213 222 220 245 119 167  56]\n",
            " [  0   0   0   0   0   0   0   0   0   4   0   0  55 236 228 230 228 240\n",
            "  232 213 218 223 234 217 217 209  92   0]\n",
            " [  0   0   1   4   6   7   2   0   0   0   0   0 237 226 217 223 222 219\n",
            "  222 221 216 223 229 215 218 255  77   0]\n",
            " [  0   3   0   0   0   0   0   0   0  62 145 204 228 207 213 221 218 208\n",
            "  211 218 224 223 219 215 224 244 159   0]\n",
            " [  0   0   0   0  18  44  82 107 189 228 220 222 217 226 200 205 211 230\n",
            "  224 234 176 188 250 248 233 238 215   0]\n",
            " [  0  57 187 208 224 221 224 208 204 214 208 209 200 159 245 193 206 223\n",
            "  255 255 221 234 221 211 220 232 246   0]\n",
            " [  3 202 228 224 221 211 211 214 205 205 205 220 240  80 150 255 229 221\n",
            "  188 154 191 210 204 209 222 228 225   0]\n",
            " [ 98 233 198 210 222 229 229 234 249 220 194 215 217 241  65  73 106 117\n",
            "  168 219 221 215 217 223 223 224 229  29]\n",
            " [ 75 204 212 204 193 205 211 225 216 185 197 206 198 213 240 195 227 245\n",
            "  239 223 218 212 209 222 220 221 230  67]\n",
            " [ 48 203 183 194 213 197 185 190 194 192 202 214 219 221 220 236 225 216\n",
            "  199 206 186 181 177 172 181 205 206 115]\n",
            " [  0 122 219 193 179 171 183 196 204 210 213 207 211 210 200 196 194 191\n",
            "  195 191 198 192 176 156 167 177 210  92]\n",
            " [  0   0  74 189 212 191 175 172 175 181 185 188 189 188 193 198 204 209\n",
            "  210 210 211 188 188 194 192 216 170   0]\n",
            " [  2   0   0   0  66 200 222 237 239 242 246 243 244 221 220 193 191 179\n",
            "  182 182 181 176 166 168  99  58   0   0]\n",
            " [  0   0   0   0   0   0   0  40  61  44  72  41  35   0   0   0   0   0\n",
            "    0   0   0   0   0   0   0   0   0   0]\n",
            " [  0   0   0   0   0   0   0   0   0   0   0   0   0   0   0   0   0   0\n",
            "    0   0   0   0   0   0   0   0   0   0]\n",
            " [  0   0   0   0   0   0   0   0   0   0   0   0   0   0   0   0   0   0\n",
            "    0   0   0   0   0   0   0   0   0   0]]\n",
            "9\n"
          ],
          "name": "stdout"
        }
      ]
    },
    {
      "cell_type": "markdown",
      "metadata": {
        "id": "HzTgSKZJu6FT",
        "colab_type": "text"
      },
      "source": [
        "##Normalizing the data\n",
        "\n",
        "Formula: \n",
        "\n",
        "```\n",
        "(x-xmin)/(xmax- xmin)\n",
        "```\n",
        "Here all of the values are integers between 0 and 255\n"
      ]
    },
    {
      "cell_type": "code",
      "metadata": {
        "id": "po3t13y0tg3q",
        "colab_type": "code",
        "colab": {}
      },
      "source": [
        "x_train=x_train/255.0\n",
        "x_test=x_test/255.0"
      ],
      "execution_count": 4,
      "outputs": []
    },
    {
      "cell_type": "markdown",
      "metadata": {
        "id": "mplfZPfM3HZq",
        "colab_type": "text"
      },
      "source": [
        "**Sequential:** This defines a SEQUENCE of layers in the neural network.\n",
        "\n",
        "**Flatten:** Remember earlier, our images were a square when they are printed out. Flatten just takes that square and turns it into a one-dimensional vector.\n",
        "\n",
        "**Dense:** Adds a layer of neurons.\n",
        "\n",
        "Each layer of neurons needs an activation function to tell them what to do. \n"
      ]
    },
    {
      "cell_type": "code",
      "metadata": {
        "id": "I4g-A-Pl2mW1",
        "colab_type": "code",
        "colab": {}
      },
      "source": [
        "model=tf.keras.models.Sequential([tf.keras.layers.Flatten(), \n",
        "                                  tf.keras.layers.Dense(512,activation=tf.nn.swish),\n",
        "                                  tf.keras.layers.Dense(10,activation=tf.nn.softmax) ])"
      ],
      "execution_count": 5,
      "outputs": []
    },
    {
      "cell_type": "markdown",
      "metadata": {
        "id": "gDJ8qtjP575I",
        "colab_type": "text"
      },
      "source": [
        "First compile the model with an optimizer and loss function, then train it on your training data and labels. \n",
        "\n",
        "**`metrics=` parameter**  allows TensorFlow to report back about how accurate the training is against the test set.\n",
        "\n",
        "\n",
        "---\n",
        "\n",
        "\n",
        "**Callback**\n",
        "The logs dictionary that callback methods take as argument will contain keys for quantities relevant to the current batch or epoch.\n",
        "\n",
        "**on_epoch_end: ** Called at the end of an epoch."
      ]
    },
    {
      "cell_type": "code",
      "metadata": {
        "id": "odAfuotD3Qq8",
        "colab_type": "code",
        "colab": {
          "base_uri": "https://localhost:8080/",
          "height": 372
        },
        "outputId": "f2327c02-7386-45b8-9eff-37b964474c1b"
      },
      "source": [
        "\n",
        "class myCallback(tf.keras.callbacks.Callback):\n",
        "  def on_epoch_end(self, epoch, logs={}):\n",
        "    if(logs.get('accuracy')>0.95):\n",
        "      print(\"\\nReached 95% accuracy so cancelling training!\")\n",
        "      self.model.stop_training = True\n",
        "\n",
        "\n",
        "callbacks = myCallback()\n",
        "model.compile(optimizer = tf.optimizers.Adam(),\n",
        "              loss = 'sparse_categorical_crossentropy',\n",
        "              metrics=['accuracy'])\n",
        "m=model.fit(x_train, y_train, epochs=10,  callbacks=[callbacks])\n",
        "\n",
        "              "
      ],
      "execution_count": 6,
      "outputs": [
        {
          "output_type": "stream",
          "text": [
            "Epoch 1/10\n",
            "1875/1875 [==============================] - 9s 5ms/step - loss: 0.4685 - accuracy: 0.8304\n",
            "Epoch 2/10\n",
            "1875/1875 [==============================] - 8s 4ms/step - loss: 0.3512 - accuracy: 0.8704\n",
            "Epoch 3/10\n",
            "1875/1875 [==============================] - 8s 4ms/step - loss: 0.3119 - accuracy: 0.8838\n",
            "Epoch 4/10\n",
            "1875/1875 [==============================] - 8s 4ms/step - loss: 0.2839 - accuracy: 0.8937\n",
            "Epoch 5/10\n",
            "1875/1875 [==============================] - 8s 4ms/step - loss: 0.2663 - accuracy: 0.9001\n",
            "Epoch 6/10\n",
            "1875/1875 [==============================] - 8s 4ms/step - loss: 0.2479 - accuracy: 0.9068\n",
            "Epoch 7/10\n",
            "1875/1875 [==============================] - 8s 4ms/step - loss: 0.2351 - accuracy: 0.9119\n",
            "Epoch 8/10\n",
            "1875/1875 [==============================] - 8s 4ms/step - loss: 0.2231 - accuracy: 0.9160\n",
            "Epoch 9/10\n",
            "1875/1875 [==============================] - 8s 4ms/step - loss: 0.2106 - accuracy: 0.9203\n",
            "Epoch 10/10\n",
            "1875/1875 [==============================] - 8s 4ms/step - loss: 0.1991 - accuracy: 0.9258\n"
          ],
          "name": "stdout"
        }
      ]
    },
    {
      "cell_type": "code",
      "metadata": {
        "id": "Q7O8cLpz_ark",
        "colab_type": "code",
        "colab": {}
      },
      "source": [
        "# Save the weights\n",
        "t=str(int(time.time()))\n",
        "model.save_weights('./drive/My Drive/Colab Notebooks/TrainedData/Fashion_MNIST_'+ t+ '/Fashion_MNIST' )\n",
        "\n",
        "# Restore the weights\n",
        "#model.load_weights('./drive/My Drive/Colab Notebooks/TrainedData/Fashion_MNIST_'+ t)\n"
      ],
      "execution_count": 19,
      "outputs": []
    },
    {
      "cell_type": "code",
      "metadata": {
        "id": "AUOf4AsMalEB",
        "colab_type": "code",
        "colab": {
          "base_uri": "https://localhost:8080/",
          "height": 72
        },
        "outputId": "4fb67272-ef87-4e6d-d555-f80aa675da68"
      },
      "source": [
        "print(m.history)\n",
        "loss=(m.history['loss'])\n",
        "accuracy=m.history['accuracy']\n",
        "epoch=[i for i in range(1,11)]\n"
      ],
      "execution_count": 22,
      "outputs": [
        {
          "output_type": "stream",
          "text": [
            "<tensorflow.python.keras.engine.sequential.Sequential object at 0x7fba6d45f198>\n",
            "{'loss': [0.46361351013183594, 0.34835076332092285, 0.30921152234077454, 0.2854595184326172, 0.26581212878227234, 0.24844981729984283, 0.23372164368629456, 0.22110970318317413, 0.20909008383750916, 0.20063674449920654], 'accuracy': [0.8325999975204468, 0.8714166879653931, 0.8849833607673645, 0.8936166763305664, 0.900783360004425, 0.9080666899681091, 0.9115166664123535, 0.917116641998291, 0.9221000075340271, 0.9245833158493042]}\n"
          ],
          "name": "stdout"
        }
      ]
    },
    {
      "cell_type": "code",
      "metadata": {
        "id": "pS8tACB_6YoO",
        "colab_type": "code",
        "colab": {
          "base_uri": "https://localhost:8080/",
          "height": 51
        },
        "outputId": "b74aa6b3-cf62-4aee-fb6b-7a656eafa220"
      },
      "source": [
        "model.evaluate(x_test, y_test)"
      ],
      "execution_count": null,
      "outputs": [
        {
          "output_type": "stream",
          "text": [
            "313/313 [==============================] - 1s 2ms/step - loss: 0.4142 - accuracy: 0.8878\n"
          ],
          "name": "stdout"
        },
        {
          "output_type": "execute_result",
          "data": {
            "text/plain": [
              "[0.41421744227409363, 0.8877999782562256]"
            ]
          },
          "metadata": {
            "tags": []
          },
          "execution_count": 39
        }
      ]
    },
    {
      "cell_type": "code",
      "metadata": {
        "id": "pCIUrtmz_BBy",
        "colab_type": "code",
        "colab": {
          "base_uri": "https://localhost:8080/",
          "height": 51
        },
        "outputId": "ccd59954-22ef-4d6c-8440-797f9a63cd0c"
      },
      "source": [
        "pred=model.predict(x_test)\n",
        "print(pred[0])\n"
      ],
      "execution_count": null,
      "outputs": [
        {
          "output_type": "stream",
          "text": [
            "[3.8548134e-08 3.0035575e-12 7.7401990e-13 1.9902359e-11 5.2868105e-13\n",
            " 2.7219181e-07 1.7968137e-12 2.1439570e-07 1.6199863e-15 9.9999952e-01]\n"
          ],
          "name": "stdout"
        }
      ]
    },
    {
      "cell_type": "code",
      "metadata": {
        "id": "1yoEfCY-ceeG",
        "colab_type": "code",
        "colab": {
          "base_uri": "https://localhost:8080/",
          "height": 591
        },
        "outputId": "b4d9c7ce-ea3e-4fad-8d27-1b41809500b2"
      },
      "source": [
        "\n",
        "plt.plot(epoch, loss, 'b-')\n",
        "plt.title(\"{0}\".format( \"Loss/Epoch Graph\"))\n",
        "plt.xlabel(\"Epoch\")\n",
        "plt.ylabel(\"Loss\")\n",
        "plt.show()\n",
        "plt.plot(epoch, accuracy, 'g-')\n",
        "plt.title(\"{0}\".format( \"Accuracy/Epoch Graph\"))\n",
        "plt.xlabel(\"Epoch\")\n",
        "plt.ylabel(\"Accuracy\")"
      ],
      "execution_count": 36,
      "outputs": [
        {
          "output_type": "display_data",
          "data": {
            "image/png": "[encoded data removed]",
            "text/plain": [
              "<Figure size 432x288 with 1 Axes>"
            ]
          },
          "metadata": {
            "tags": [],
            "needs_background": "light"
          }
        },
        {
          "output_type": "execute_result",
          "data": {
            "text/plain": [
              "Text(0, 0.5, 'Accuracy')"
            ]
          },
          "metadata": {
            "tags": []
          },
          "execution_count": 36
        },
        {
          "output_type": "display_data",
          "data": {
            "image/png": "[encoded data removed]",
            "text/plain": [
              "<Figure size 432x288 with 1 Axes>"
            ]
          },
          "metadata": {
            "tags": [],
            "needs_background": "light"
          }
        }
      ]
    }
  ]
}